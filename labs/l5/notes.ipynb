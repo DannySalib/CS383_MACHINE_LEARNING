{
 "cells": [
  {
   "cell_type": "code",
   "execution_count": 37,
   "metadata": {},
   "outputs": [
    {
     "data": {
      "text/html": [
       "<div>\n",
       "<style scoped>\n",
       "    .dataframe tbody tr th:only-of-type {\n",
       "        vertical-align: middle;\n",
       "    }\n",
       "\n",
       "    .dataframe tbody tr th {\n",
       "        vertical-align: top;\n",
       "    }\n",
       "\n",
       "    .dataframe thead th {\n",
       "        text-align: right;\n",
       "    }\n",
       "</style>\n",
       "<table border=\"1\" class=\"dataframe\">\n",
       "  <thead>\n",
       "    <tr style=\"text-align: right;\">\n",
       "      <th></th>\n",
       "      <th>0</th>\n",
       "      <th>1</th>\n",
       "      <th>2</th>\n",
       "      <th>3</th>\n",
       "      <th>4</th>\n",
       "      <th>5</th>\n",
       "      <th>6</th>\n",
       "      <th>7</th>\n",
       "      <th>8</th>\n",
       "      <th>9</th>\n",
       "      <th>...</th>\n",
       "      <th>48</th>\n",
       "      <th>49</th>\n",
       "      <th>50</th>\n",
       "      <th>51</th>\n",
       "      <th>52</th>\n",
       "      <th>53</th>\n",
       "      <th>54</th>\n",
       "      <th>55</th>\n",
       "      <th>56</th>\n",
       "      <th>57</th>\n",
       "    </tr>\n",
       "  </thead>\n",
       "  <tbody>\n",
       "    <tr>\n",
       "      <th>12</th>\n",
       "      <td>0.00</td>\n",
       "      <td>0.69</td>\n",
       "      <td>0.34</td>\n",
       "      <td>0.0</td>\n",
       "      <td>0.34</td>\n",
       "      <td>0.00</td>\n",
       "      <td>0.0</td>\n",
       "      <td>0.00</td>\n",
       "      <td>0.00</td>\n",
       "      <td>0.00</td>\n",
       "      <td>...</td>\n",
       "      <td>0.000</td>\n",
       "      <td>0.056</td>\n",
       "      <td>0.000</td>\n",
       "      <td>0.786</td>\n",
       "      <td>0.000</td>\n",
       "      <td>0.0</td>\n",
       "      <td>3.728</td>\n",
       "      <td>61</td>\n",
       "      <td>261</td>\n",
       "      <td>1</td>\n",
       "    </tr>\n",
       "    <tr>\n",
       "      <th>3927</th>\n",
       "      <td>0.07</td>\n",
       "      <td>0.03</td>\n",
       "      <td>0.18</td>\n",
       "      <td>0.0</td>\n",
       "      <td>0.10</td>\n",
       "      <td>0.03</td>\n",
       "      <td>0.0</td>\n",
       "      <td>0.00</td>\n",
       "      <td>0.40</td>\n",
       "      <td>0.00</td>\n",
       "      <td>...</td>\n",
       "      <td>0.188</td>\n",
       "      <td>0.148</td>\n",
       "      <td>0.035</td>\n",
       "      <td>0.000</td>\n",
       "      <td>0.010</td>\n",
       "      <td>0.0</td>\n",
       "      <td>3.233</td>\n",
       "      <td>66</td>\n",
       "      <td>1387</td>\n",
       "      <td>0</td>\n",
       "    </tr>\n",
       "    <tr>\n",
       "      <th>3352</th>\n",
       "      <td>0.00</td>\n",
       "      <td>0.00</td>\n",
       "      <td>0.08</td>\n",
       "      <td>0.0</td>\n",
       "      <td>0.00</td>\n",
       "      <td>0.16</td>\n",
       "      <td>0.0</td>\n",
       "      <td>0.08</td>\n",
       "      <td>0.08</td>\n",
       "      <td>0.00</td>\n",
       "      <td>...</td>\n",
       "      <td>0.069</td>\n",
       "      <td>0.103</td>\n",
       "      <td>0.000</td>\n",
       "      <td>0.000</td>\n",
       "      <td>0.011</td>\n",
       "      <td>0.0</td>\n",
       "      <td>2.440</td>\n",
       "      <td>18</td>\n",
       "      <td>598</td>\n",
       "      <td>0</td>\n",
       "    </tr>\n",
       "    <tr>\n",
       "      <th>1278</th>\n",
       "      <td>0.00</td>\n",
       "      <td>0.89</td>\n",
       "      <td>1.15</td>\n",
       "      <td>0.0</td>\n",
       "      <td>0.12</td>\n",
       "      <td>0.00</td>\n",
       "      <td>0.0</td>\n",
       "      <td>0.12</td>\n",
       "      <td>0.25</td>\n",
       "      <td>0.12</td>\n",
       "      <td>...</td>\n",
       "      <td>0.000</td>\n",
       "      <td>0.185</td>\n",
       "      <td>0.000</td>\n",
       "      <td>0.370</td>\n",
       "      <td>0.061</td>\n",
       "      <td>0.0</td>\n",
       "      <td>2.878</td>\n",
       "      <td>84</td>\n",
       "      <td>475</td>\n",
       "      <td>1</td>\n",
       "    </tr>\n",
       "    <tr>\n",
       "      <th>3535</th>\n",
       "      <td>0.00</td>\n",
       "      <td>0.00</td>\n",
       "      <td>0.00</td>\n",
       "      <td>0.0</td>\n",
       "      <td>0.00</td>\n",
       "      <td>0.00</td>\n",
       "      <td>0.0</td>\n",
       "      <td>0.00</td>\n",
       "      <td>0.00</td>\n",
       "      <td>0.00</td>\n",
       "      <td>...</td>\n",
       "      <td>0.185</td>\n",
       "      <td>0.743</td>\n",
       "      <td>0.000</td>\n",
       "      <td>0.000</td>\n",
       "      <td>0.000</td>\n",
       "      <td>0.0</td>\n",
       "      <td>4.476</td>\n",
       "      <td>14</td>\n",
       "      <td>94</td>\n",
       "      <td>0</td>\n",
       "    </tr>\n",
       "  </tbody>\n",
       "</table>\n",
       "<p>5 rows × 58 columns</p>\n",
       "</div>"
      ],
      "text/plain": [
       "        0     1     2    3     4     5    6     7     8     9   ...     48  \\\n",
       "12    0.00  0.69  0.34  0.0  0.34  0.00  0.0  0.00  0.00  0.00  ...  0.000   \n",
       "3927  0.07  0.03  0.18  0.0  0.10  0.03  0.0  0.00  0.40  0.00  ...  0.188   \n",
       "3352  0.00  0.00  0.08  0.0  0.00  0.16  0.0  0.08  0.08  0.00  ...  0.069   \n",
       "1278  0.00  0.89  1.15  0.0  0.12  0.00  0.0  0.12  0.25  0.12  ...  0.000   \n",
       "3535  0.00  0.00  0.00  0.0  0.00  0.00  0.0  0.00  0.00  0.00  ...  0.185   \n",
       "\n",
       "         49     50     51     52   53     54  55    56  57  \n",
       "12    0.056  0.000  0.786  0.000  0.0  3.728  61   261   1  \n",
       "3927  0.148  0.035  0.000  0.010  0.0  3.233  66  1387   0  \n",
       "3352  0.103  0.000  0.000  0.011  0.0  2.440  18   598   0  \n",
       "1278  0.185  0.000  0.370  0.061  0.0  2.878  84   475   1  \n",
       "3535  0.743  0.000  0.000  0.000  0.0  4.476  14    94   0  \n",
       "\n",
       "[5 rows x 58 columns]"
      ]
     },
     "execution_count": 37,
     "metadata": {},
     "output_type": "execute_result"
    }
   ],
   "source": [
    "import pandas as pd \n",
    "import numpy as np\n",
    "\n",
    "df = pd.read_table('spambase.data', header=None, delimiter=',')\n",
    "df = df.sample(frac=1)\n",
    "\n",
    "df.head()"
   ]
  },
  {
   "cell_type": "code",
   "execution_count": 38,
   "metadata": {},
   "outputs": [
    {
     "data": {
      "text/plain": [
       "((3067, 57), (1534, 57), (3067,), (1534,))"
      ]
     },
     "execution_count": 38,
     "metadata": {},
     "output_type": "execute_result"
    }
   ],
   "source": [
    "split = len(df) * 2 // 3\n",
    "\n",
    "X_tr = df.iloc[:split, :-1].to_numpy()\n",
    "X_v = df.iloc[split:, :-1].to_numpy()\n",
    "\n",
    "Y_tr = df.iloc[:split, -1].to_numpy()\n",
    "Y_v = df.iloc[split:, -1].to_numpy()\n",
    "\n",
    "X_tr.shape, X_v.shape, Y_tr.shape, Y_v.shape"
   ]
  },
  {
   "cell_type": "code",
   "execution_count": 39,
   "metadata": {},
   "outputs": [
    {
     "data": {
      "text/plain": [
       "(3067, 1)"
      ]
     },
     "execution_count": 39,
     "metadata": {},
     "output_type": "execute_result"
    }
   ],
   "source": [
    "ones = np.ones((X_tr.shape[0], 1))\n",
    "diagY_tr = np.diag(Y_tr)\n",
    "a = np.linalg.pinv(diagY_tr @ X_tr @ X_tr.T @ diagY_tr) @ ones\n",
    "a.shape"
   ]
  },
  {
   "cell_type": "code",
   "execution_count": 40,
   "metadata": {},
   "outputs": [
    {
     "data": {
      "text/plain": [
       "(57, 1)"
      ]
     },
     "execution_count": 40,
     "metadata": {},
     "output_type": "execute_result"
    }
   ],
   "source": [
    "W = X_tr.T @ diagY_tr @ a\n",
    "W.shape"
   ]
  },
  {
   "cell_type": "code",
   "execution_count": 41,
   "metadata": {},
   "outputs": [
    {
     "data": {
      "text/plain": [
       "((3067, 1), (1534, 1))"
      ]
     },
     "execution_count": 41,
     "metadata": {},
     "output_type": "execute_result"
    }
   ],
   "source": [
    "Yhat_tr = np.sign(X_tr @ W)\n",
    "Yhat_v = np.sign(X_v @ W)\n",
    "Yhat_tr.shape, Yhat_v.shape"
   ]
  },
  {
   "cell_type": "code",
   "execution_count": null,
   "metadata": {},
   "outputs": [
    {
     "name": "stdout",
     "output_type": "stream",
     "text": [
      "Training SMAPE (%): 60.94\n",
      "Validating SMAPE (%): 62.24\n",
      "\n",
      "Training RMSE (%): 79.62\n",
      "Validating RMSE (%): 80.22\n",
      "\n",
      "Training Accuracy (%): 39.06\n",
      "Validating Accuracy (%): 37.76\n",
      "\n",
      "Training F Measure (%): 56.68\n",
      "Validating F Measure (%): 55.27\n"
     ]
    }
   ],
   "source": [
    "smape = lambda Y, Yhat: np.mean(np.abs(Y - Yhat) / (np.abs(Y) + np.abs(Yhat)))\n",
    "\n",
    "rmse = lambda Y, Yhat: np.sqrt(np.mean((Y - Yhat)**2))\n",
    "\n",
    "accuracy = lambda Yhat, Y: np.mean(np.sign(Yhat) == Y)\n",
    "\n",
    "precision = lambda Yhat, Y: TP(Yhat, Y) / (TP(Yhat, Y) + FP(Yhat, Y)) if (TP(Yhat, Y) + FP(Yhat, Y)) != 0 else 0\n",
    "\n",
    "recall = lambda Yhat, Y: TP(Yhat, Y) / (TP(Yhat, Y) + FN(Yhat, Y)) if (TP(Yhat, Y) + FN(Yhat, Y)) != 0 else 0\n",
    "\n",
    "f1_score = lambda Yhat, Y: (2 * precision(Yhat, Y) * recall(Yhat, Y)) \\\n",
    "    / (precision(Yhat, Y) + recall(Yhat, Y)) if (precision(Yhat, Y) + recall(Yhat, Y)) != 0 else 0\n",
    "\n",
    "# Compute confusion matrix for precision, recall, and harmonic mean\n",
    "TP = lambda Yhat, Y: np.sum((Yhat == 1) & (Y == 1))  # True Positives\n",
    "FP = lambda Yhat, Y: np.sum((Yhat == 1) & (Y != 1))  # False Positives\n",
    "FN = lambda Yhat, Y: np.sum((Yhat != 1) & (Y == 1))  # False Negatives\n",
    "\n",
    "# Print ERROR%\n",
    "print(f'Training Accuracy (%): {accuracy(Yhat_tr, Y_tr) * 100:.2f}')\n",
    "print(f'Validating Accuracy (%): {accuracy(Yhat_v, Y_v) * 100:.2f}')\n",
    "print()\n",
    "print(f'Training F Measure (%): {f1_score(Yhat_tr, Y_tr) * 100:.2f}')\n",
    "print(f'Validating F Measure (%): {f1_score(Yhat_v, Y_v) * 100:.2f}')"
   ]
  }
 ],
 "metadata": {
  "kernelspec": {
   "display_name": "Python 3",
   "language": "python",
   "name": "python3"
  },
  "language_info": {
   "codemirror_mode": {
    "name": "ipython",
    "version": 3
   },
   "file_extension": ".py",
   "mimetype": "text/x-python",
   "name": "python",
   "nbconvert_exporter": "python",
   "pygments_lexer": "ipython3",
   "version": "3.11.9"
  }
 },
 "nbformat": 4,
 "nbformat_minor": 2
}
